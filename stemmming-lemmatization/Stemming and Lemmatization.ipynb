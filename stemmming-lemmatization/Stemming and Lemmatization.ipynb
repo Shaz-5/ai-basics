{
 "cells": [
  {
   "cell_type": "markdown",
   "metadata": {
    "id": "MKGV_ujhIQhh"
   },
   "source": [
    "## Understand the difference between Stemming and Lemmatization"
   ]
  },
  {
   "cell_type": "code",
   "execution_count": 2,
   "metadata": {},
   "outputs": [
    {
     "name": "stdout",
     "output_type": "stream",
     "text": [
      "Defaulting to user installation because normal site-packages is not writeable\n",
      "Collecting nltk\n",
      "  Downloading nltk-3.6.7-py3-none-any.whl (1.5 MB)\n",
      "     |████████████████████████████████| 1.5 MB 1.1 MB/s            \n",
      "\u001b[?25hRequirement already satisfied: click in /usr/lib/python3/dist-packages (from nltk) (6.7)\n",
      "Requirement already satisfied: joblib in /home/user/.local/lib/python3.6/site-packages (from nltk) (1.1.1)\n",
      "Collecting tqdm\n",
      "  Downloading tqdm-4.64.1-py2.py3-none-any.whl (78 kB)\n",
      "     |████████████████████████████████| 78 kB 1.5 MB/s             \n",
      "\u001b[?25hCollecting regex>=2021.8.3\n",
      "  Downloading regex-2023.8.8-cp36-cp36m-manylinux_2_17_x86_64.manylinux2014_x86_64.whl (759 kB)\n",
      "     |████████████████████████████████| 759 kB 30.1 MB/s            \n",
      "\u001b[?25hCollecting importlib-resources\n",
      "  Downloading importlib_resources-5.4.0-py3-none-any.whl (28 kB)\n",
      "Requirement already satisfied: zipp>=3.1.0 in /home/user/.local/lib/python3.6/site-packages (from importlib-resources->tqdm->nltk) (3.6.0)\n",
      "Installing collected packages: importlib-resources, tqdm, regex, nltk\n",
      "Successfully installed importlib-resources-5.4.0 nltk-3.6.7 regex-2023.8.8 tqdm-4.64.1\n"
     ]
    }
   ],
   "source": [
    "!pip install nltk"
   ]
  },
  {
   "cell_type": "code",
   "execution_count": 3,
   "metadata": {
    "id": "pjHieofoHv2b"
   },
   "outputs": [],
   "source": [
    "import nltk\n",
    "\n",
    "# Natural Language Toolkit"
   ]
  },
  {
   "cell_type": "code",
   "execution_count": 4,
   "metadata": {},
   "outputs": [],
   "source": [
    "from nltk.corpus import stopwords"
   ]
  },
  {
   "cell_type": "code",
   "execution_count": 5,
   "metadata": {},
   "outputs": [
    {
     "name": "stderr",
     "output_type": "stream",
     "text": [
      "[nltk_data] Downloading package stopwords to /home/user/nltk_data...\n",
      "[nltk_data]   Unzipping corpora/stopwords.zip.\n"
     ]
    },
    {
     "data": {
      "text/plain": [
       "True"
      ]
     },
     "execution_count": 5,
     "metadata": {},
     "output_type": "execute_result"
    }
   ],
   "source": [
    "nltk.download('stopwords')"
   ]
  },
  {
   "cell_type": "code",
   "execution_count": 6,
   "metadata": {},
   "outputs": [],
   "source": [
    "# set stopwords to english\n",
    "stop_words = set(stopwords.words('english'))"
   ]
  },
  {
   "cell_type": "markdown",
   "metadata": {},
   "source": [
    "## Stemming"
   ]
  },
  {
   "cell_type": "code",
   "execution_count": 7,
   "metadata": {
    "id": "6j5XMz92IeYD"
   },
   "outputs": [],
   "source": [
    "from nltk.stem import PorterStemmer\n",
    "\n",
    "# Stemming Algorithm"
   ]
  },
  {
   "cell_type": "code",
   "execution_count": 8,
   "metadata": {
    "id": "8E5g9T2LIq4S"
   },
   "outputs": [],
   "source": [
    "# Create an instance of PorterStemmer\n",
    "\n",
    "porter = PorterStemmer() # Create an instance"
   ]
  },
  {
   "cell_type": "markdown",
   "metadata": {
    "id": "IUoRqXp-I3F7"
   },
   "source": [
    "### Stem words"
   ]
  },
  {
   "cell_type": "code",
   "execution_count": null,
   "metadata": {
    "colab": {
     "base_uri": "https://localhost:8080/",
     "height": 36
    },
    "id": "rrLG_5h8Ixl_",
    "outputId": "704da4ff-2d0a-4c01-d870-6c0c6395453a"
   },
   "outputs": [
    {
     "data": {
      "application/vnd.google.colaboratory.intrinsic+json": {
       "type": "string"
      },
      "text/plain": [
       "'walk'"
      ]
     },
     "execution_count": 6,
     "metadata": {},
     "output_type": "execute_result"
    }
   ],
   "source": [
    "porter.stem(\"Walking\")"
   ]
  },
  {
   "cell_type": "code",
   "execution_count": null,
   "metadata": {
    "colab": {
     "base_uri": "https://localhost:8080/",
     "height": 36
    },
    "id": "OkFWMau7I7TH",
    "outputId": "1cecd0ed-7d11-4b69-aada-3e287fcf89d3"
   },
   "outputs": [
    {
     "data": {
      "application/vnd.google.colaboratory.intrinsic+json": {
       "type": "string"
      },
      "text/plain": [
       "'walk'"
      ]
     },
     "execution_count": 7,
     "metadata": {},
     "output_type": "execute_result"
    }
   ],
   "source": [
    "porter.stem(\"Walked\")"
   ]
  },
  {
   "cell_type": "code",
   "execution_count": null,
   "metadata": {
    "colab": {
     "base_uri": "https://localhost:8080/",
     "height": 36
    },
    "id": "C_V10hc7I9pX",
    "outputId": "48193831-4d45-4c8e-d92b-ce767df9c0fe"
   },
   "outputs": [
    {
     "data": {
      "application/vnd.google.colaboratory.intrinsic+json": {
       "type": "string"
      },
      "text/plain": [
       "'walk'"
      ]
     },
     "execution_count": 8,
     "metadata": {},
     "output_type": "execute_result"
    }
   ],
   "source": [
    "porter.stem(\"Walks\")"
   ]
  },
  {
   "cell_type": "code",
   "execution_count": null,
   "metadata": {
    "colab": {
     "base_uri": "https://localhost:8080/",
     "height": 36
    },
    "id": "tVOtPQNPJCDw",
    "outputId": "3bb95ab1-c6bb-4776-e397-426b10e99983"
   },
   "outputs": [
    {
     "data": {
      "application/vnd.google.colaboratory.intrinsic+json": {
       "type": "string"
      },
      "text/plain": [
       "'run'"
      ]
     },
     "execution_count": 9,
     "metadata": {},
     "output_type": "execute_result"
    }
   ],
   "source": [
    "porter.stem(\"run\")"
   ]
  },
  {
   "cell_type": "code",
   "execution_count": null,
   "metadata": {
    "colab": {
     "base_uri": "https://localhost:8080/",
     "height": 36
    },
    "id": "IjsK8AW0JDsJ",
    "outputId": "eb2d784e-d5e9-4e4b-da9a-d51c31008628"
   },
   "outputs": [
    {
     "data": {
      "application/vnd.google.colaboratory.intrinsic+json": {
       "type": "string"
      },
      "text/plain": [
       "'ran'"
      ]
     },
     "execution_count": 10,
     "metadata": {},
     "output_type": "execute_result"
    }
   ],
   "source": [
    "porter.stem(\"ran\")"
   ]
  },
  {
   "cell_type": "code",
   "execution_count": null,
   "metadata": {
    "colab": {
     "base_uri": "https://localhost:8080/",
     "height": 36
    },
    "id": "2HAvZsB8JDvg",
    "outputId": "7a63a68b-0708-4011-92cc-bfe33e817007"
   },
   "outputs": [
    {
     "data": {
      "application/vnd.google.colaboratory.intrinsic+json": {
       "type": "string"
      },
      "text/plain": [
       "'run'"
      ]
     },
     "execution_count": 11,
     "metadata": {},
     "output_type": "execute_result"
    }
   ],
   "source": [
    "porter.stem(\"running\")"
   ]
  },
  {
   "cell_type": "code",
   "execution_count": null,
   "metadata": {
    "colab": {
     "base_uri": "https://localhost:8080/",
     "height": 36
    },
    "id": "4woi3Rf5JD5B",
    "outputId": "69f59925-8136-40bf-982c-e11d82886db5"
   },
   "outputs": [
    {
     "data": {
      "application/vnd.google.colaboratory.intrinsic+json": {
       "type": "string"
      },
      "text/plain": [
       "'boss'"
      ]
     },
     "execution_count": 12,
     "metadata": {},
     "output_type": "execute_result"
    }
   ],
   "source": [
    "porter.stem(\"bosses\")"
   ]
  },
  {
   "cell_type": "code",
   "execution_count": null,
   "metadata": {
    "colab": {
     "base_uri": "https://localhost:8080/",
     "height": 36
    },
    "id": "dDmJR8xIJOwy",
    "outputId": "fef7b13e-95af-477a-ffe7-4e060a624081"
   },
   "outputs": [
    {
     "data": {
      "application/vnd.google.colaboratory.intrinsic+json": {
       "type": "string"
      },
      "text/plain": [
       "'replac'"
      ]
     },
     "execution_count": 13,
     "metadata": {},
     "output_type": "execute_result"
    }
   ],
   "source": [
    "porter.stem(\"replacement\") # \"ement\" -> remove"
   ]
  },
  {
   "cell_type": "code",
   "execution_count": null,
   "metadata": {
    "colab": {
     "base_uri": "https://localhost:8080/",
     "height": 36
    },
    "id": "7VqwnFdCJOzx",
    "outputId": "6adeb38e-5d70-431e-9e35-a3d8b51cefc0"
   },
   "outputs": [
    {
     "data": {
      "application/vnd.google.colaboratory.intrinsic+json": {
       "type": "string"
      },
      "text/plain": [
       "'unnecessari'"
      ]
     },
     "execution_count": 14,
     "metadata": {},
     "output_type": "execute_result"
    }
   ],
   "source": [
    "porter.stem(\"unnecessary\")"
   ]
  },
  {
   "cell_type": "code",
   "execution_count": null,
   "metadata": {
    "colab": {
     "base_uri": "https://localhost:8080/",
     "height": 36
    },
    "id": "9zk4DGHrJZ6Z",
    "outputId": "43f19237-72a0-49be-ce24-7b8917e7029d"
   },
   "outputs": [
    {
     "data": {
      "application/vnd.google.colaboratory.intrinsic+json": {
       "type": "string"
      },
      "text/plain": [
       "'berri'"
      ]
     },
     "execution_count": 15,
     "metadata": {},
     "output_type": "execute_result"
    }
   ],
   "source": [
    "porter.stem(\"berry\") # y -> i"
   ]
  },
  {
   "cell_type": "markdown",
   "metadata": {
    "id": "wE7eqyb_JtJR"
   },
   "source": [
    "### Stem sentence"
   ]
  },
  {
   "cell_type": "code",
   "execution_count": 33,
   "metadata": {
    "id": "OgfT2YaLJZ9R"
   },
   "outputs": [],
   "source": [
    "sentence = \"Stemming is a crude method for normalizaing words\""
   ]
  },
  {
   "cell_type": "code",
   "execution_count": 34,
   "metadata": {
    "id": "giZXePApJsnB"
   },
   "outputs": [],
   "source": [
    "# iter of object -> enumerate(iterobject) => Output (index, element)\n",
    "# Example : (0, \"Stemming\"), (1, \"is\"), etc.\n",
    "\n",
    "sentence_split = sentence.split() # default : delimiter as whitespace"
   ]
  },
  {
   "cell_type": "code",
   "execution_count": 35,
   "metadata": {
    "colab": {
     "base_uri": "https://localhost:8080/"
    },
    "id": "vUEvnurIJsqL",
    "outputId": "70fe04a6-d556-45e7-9ad7-7a68e357acdb",
    "scrolled": true
   },
   "outputs": [
    {
     "name": "stdout",
     "output_type": "stream",
     "text": [
      "stem is a crude method for normaliza word "
     ]
    }
   ],
   "source": [
    "for tokens in sentence_split: # tokens = \"Stemming\",\"is\",\"a\"...\n",
    "  stemmed_word = porter.stem(tokens)\n",
    "  print(stemmed_word, end = \" \")"
   ]
  },
  {
   "cell_type": "markdown",
   "metadata": {
    "id": "njf6bSHvZDKr"
   },
   "source": [
    "## Stemming corpus"
   ]
  },
  {
   "cell_type": "code",
   "execution_count": 19,
   "metadata": {},
   "outputs": [
    {
     "name": "stdout",
     "output_type": "stream",
     "text": [
      "Corpus: \n",
      "\n",
      " She tried to explain that love wasn't like pie. There wasn't a set number of slices to be given out. There wasn't less to be given to one person if you wanted to give more to another. That after a set amount was given out it would all disappear. She tried to explain this, but it fell on deaf ears.\n",
      "He lifted the bottle to his lips and took a sip of the drink. He had tasted this before, but he couldn't quite remember the time and place it had happened. He desperately searched his mind trying to locate and remember where he had tasted this when the bicycle ran over his foot.\n",
      "Don't be scared. The things out there that are unknown aren't scary in themselves. They are just unknown at the moment. Take the time to know them before you list them as scary. Then the world will be a much less scary place for you.\n",
      "She had been an angel for coming up on 10 years and in all that time nobody had told her this was possible. The fact that it could ever happen never even entered her mind. Yet there she stood, with the undeniable evidence sitting on the ground before her. Angels could lose their wings.\n",
      "\n",
      "\n",
      "After removing stopwords and Stemming: \n",
      "\n",
      "she tri explain love like pie. there set number slice given out. there less given one person want give another. that set amount given would disappear. she tri explain this, fell deaf ears. he lift bottl lip took sip drink. he tast before, quit rememb time place happened. he desper search mind tri locat rememb tast bicycl ran foot. don't scared. the thing unknown scari themselves. they unknown moment. take time know list scary. then world much less scari place you. she angel come 10 year time nobodi told possible. the fact could ever happen never even enter mind. yet stood, undeni evid sit ground her. angel could lose wings. "
     ]
    }
   ],
   "source": [
    "# load the corpus \n",
    "corpus_1 = open('corpus_1.txt','r')\n",
    "\n",
    "# print the original corpus\n",
    "print('Corpus: \\n\\n',corpus_1.read())\n",
    "\n",
    "corpus_1 = open('corpus_1.txt','r')\n",
    "\n",
    "# print the corpus after stemming is applied to it\n",
    "print('\\nAfter removing stopwords and Stemming: \\n')\n",
    "for sentence in corpus_1:                                # takes each sentence from the corpus\n",
    "    for token in sentence.split():                       # splits the sentence and loops on each token\n",
    "        if token not in stop_words:                      # removes stop words\n",
    "            stemmed_word = porter.stem(token.lower())            # stems the token\n",
    "            print(stemmed_word, end = \" \")               # prints the stemmed token"
   ]
  },
  {
   "cell_type": "markdown",
   "metadata": {
    "id": "NbVUowFNMBVY"
   },
   "source": [
    "## Lemmatization"
   ]
  },
  {
   "cell_type": "code",
   "execution_count": 11,
   "metadata": {
    "id": "kNYKUEiEJZ_p"
   },
   "outputs": [],
   "source": [
    "from nltk.stem import WordNetLemmatizer"
   ]
  },
  {
   "cell_type": "code",
   "execution_count": 12,
   "metadata": {
    "colab": {
     "base_uri": "https://localhost:8080/"
    },
    "id": "OAj7XWSTKZNE",
    "outputId": "76a284ca-0720-4335-eb9a-3aa900f5ed8f"
   },
   "outputs": [
    {
     "name": "stderr",
     "output_type": "stream",
     "text": [
      "[nltk_data] Downloading package wordnet to /home/user/nltk_data...\n"
     ]
    },
    {
     "data": {
      "text/plain": [
       "True"
      ]
     },
     "execution_count": 12,
     "metadata": {},
     "output_type": "execute_result"
    }
   ],
   "source": [
    "# Lemmatization involves looking into the database\n",
    "nltk.download(\"wordnet\") # word -> POS (Part-of-Speech) [saw - VERB -> see]"
   ]
  },
  {
   "cell_type": "code",
   "execution_count": 14,
   "metadata": {
    "id": "f1Fe5XJSKZP9"
   },
   "outputs": [],
   "source": [
    "# Import wordnet module for nltk.corpus\n",
    "\n",
    "from nltk.corpus import wordnet"
   ]
  },
  {
   "cell_type": "code",
   "execution_count": 15,
   "metadata": {
    "id": "f6CFd7NkKZSl"
   },
   "outputs": [],
   "source": [
    "lemmatizer = WordNetLemmatizer() # Lemmatizer is applicable for words"
   ]
  },
  {
   "cell_type": "code",
   "execution_count": null,
   "metadata": {
    "colab": {
     "base_uri": "https://localhost:8080/",
     "height": 36
    },
    "id": "sAena5eoJaCq",
    "outputId": "60bc7267-57d1-436b-ae73-b314d5c90415"
   },
   "outputs": [
    {
     "data": {
      "application/vnd.google.colaboratory.intrinsic+json": {
       "type": "string"
      },
      "text/plain": [
       "'walking'"
      ]
     },
     "execution_count": 23,
     "metadata": {},
     "output_type": "execute_result"
    }
   ],
   "source": [
    "lemmatizer.lemmatize(\"walking\") # Lemmantization takes POS as argument, which by default is NOUN"
   ]
  },
  {
   "cell_type": "code",
   "execution_count": null,
   "metadata": {
    "colab": {
     "base_uri": "https://localhost:8080/",
     "height": 36
    },
    "id": "ndK6fTAlJO3U",
    "outputId": "0cc4ec6e-998a-449e-824c-f4affc4af073"
   },
   "outputs": [
    {
     "data": {
      "application/vnd.google.colaboratory.intrinsic+json": {
       "type": "string"
      },
      "text/plain": [
       "'walk'"
      ]
     },
     "execution_count": 24,
     "metadata": {},
     "output_type": "execute_result"
    }
   ],
   "source": [
    "lemmatizer.lemmatize(\"walking\", pos = wordnet.VERB)      # Part of speech tagged as verb"
   ]
  },
  {
   "cell_type": "code",
   "execution_count": null,
   "metadata": {
    "colab": {
     "base_uri": "https://localhost:8080/",
     "height": 36
    },
    "id": "UzOVDpYSOHaS",
    "outputId": "f938d8ff-62f1-497c-feb9-6619c1ff50b5"
   },
   "outputs": [
    {
     "data": {
      "application/vnd.google.colaboratory.intrinsic+json": {
       "type": "string"
      },
      "text/plain": [
       "'going'"
      ]
     },
     "execution_count": 25,
     "metadata": {},
     "output_type": "execute_result"
    }
   ],
   "source": [
    "lemmatizer.lemmatize(\"going\")"
   ]
  },
  {
   "cell_type": "code",
   "execution_count": null,
   "metadata": {
    "colab": {
     "base_uri": "https://localhost:8080/",
     "height": 36
    },
    "id": "LEnGO5s1OHdS",
    "outputId": "7955ae16-0bc3-4cce-977d-372daa5346cf"
   },
   "outputs": [
    {
     "data": {
      "application/vnd.google.colaboratory.intrinsic+json": {
       "type": "string"
      },
      "text/plain": [
       "'go'"
      ]
     },
     "execution_count": 26,
     "metadata": {},
     "output_type": "execute_result"
    }
   ],
   "source": [
    "lemmatizer.lemmatize(\"going\", pos = wordnet.VERB)"
   ]
  },
  {
   "cell_type": "code",
   "execution_count": null,
   "metadata": {
    "colab": {
     "base_uri": "https://localhost:8080/",
     "height": 36
    },
    "id": "9r2qYmm8OHgy",
    "outputId": "e9b5f4a7-2a2b-4640-f876-fed841b3dbf1"
   },
   "outputs": [
    {
     "data": {
      "application/vnd.google.colaboratory.intrinsic+json": {
       "type": "string"
      },
      "text/plain": [
       "'run'"
      ]
     },
     "execution_count": 27,
     "metadata": {},
     "output_type": "execute_result"
    }
   ],
   "source": [
    "lemmatizer.lemmatize(\"ran\", pos = wordnet.VERB)"
   ]
  },
  {
   "cell_type": "code",
   "execution_count": null,
   "metadata": {
    "colab": {
     "base_uri": "https://localhost:8080/",
     "height": 36
    },
    "id": "yMIpR40TO21z",
    "outputId": "4d9a6084-f4c1-4321-ef64-829864d7c75c"
   },
   "outputs": [
    {
     "data": {
      "application/vnd.google.colaboratory.intrinsic+json": {
       "type": "string"
      },
      "text/plain": [
       "'mice'"
      ]
     },
     "execution_count": 29,
     "metadata": {},
     "output_type": "execute_result"
    }
   ],
   "source": [
    "porter.stem(\"mice\")"
   ]
  },
  {
   "cell_type": "code",
   "execution_count": null,
   "metadata": {
    "colab": {
     "base_uri": "https://localhost:8080/",
     "height": 36
    },
    "id": "IyEc30ybOHnL",
    "outputId": "738717e7-917c-46e0-beda-62be02771d34"
   },
   "outputs": [
    {
     "data": {
      "application/vnd.google.colaboratory.intrinsic+json": {
       "type": "string"
      },
      "text/plain": [
       "'mouse'"
      ]
     },
     "execution_count": 28,
     "metadata": {},
     "output_type": "execute_result"
    }
   ],
   "source": [
    "lemmatizer.lemmatize(\"mice\")"
   ]
  },
  {
   "cell_type": "code",
   "execution_count": null,
   "metadata": {
    "colab": {
     "base_uri": "https://localhost:8080/",
     "height": 36
    },
    "id": "eY-qs35tOrsS",
    "outputId": "03743e53-b732-4c88-ba32-f315f1a01167"
   },
   "outputs": [
    {
     "data": {
      "application/vnd.google.colaboratory.intrinsic+json": {
       "type": "string"
      },
      "text/plain": [
       "'wa'"
      ]
     },
     "execution_count": 30,
     "metadata": {},
     "output_type": "execute_result"
    }
   ],
   "source": [
    "porter.stem(\"was\")"
   ]
  },
  {
   "cell_type": "code",
   "execution_count": null,
   "metadata": {
    "colab": {
     "base_uri": "https://localhost:8080/",
     "height": 36
    },
    "id": "zZcXWNeoOrvc",
    "outputId": "7d5ed025-12dc-4bce-b434-0f075b0685d4"
   },
   "outputs": [
    {
     "data": {
      "application/vnd.google.colaboratory.intrinsic+json": {
       "type": "string"
      },
      "text/plain": [
       "'wa'"
      ]
     },
     "execution_count": 31,
     "metadata": {},
     "output_type": "execute_result"
    }
   ],
   "source": [
    "lemmatizer.lemmatize(\"was\")"
   ]
  },
  {
   "cell_type": "code",
   "execution_count": null,
   "metadata": {
    "colab": {
     "base_uri": "https://localhost:8080/",
     "height": 36
    },
    "id": "b8UBDfZcOryj",
    "outputId": "98090e49-9d59-47c8-81b2-077c8141441c"
   },
   "outputs": [
    {
     "data": {
      "application/vnd.google.colaboratory.intrinsic+json": {
       "type": "string"
      },
      "text/plain": [
       "'be'"
      ]
     },
     "execution_count": 32,
     "metadata": {},
     "output_type": "execute_result"
    }
   ],
   "source": [
    "lemmatizer.lemmatize(\"was\", pos = wordnet.VERB)"
   ]
  },
  {
   "cell_type": "code",
   "execution_count": null,
   "metadata": {
    "colab": {
     "base_uri": "https://localhost:8080/",
     "height": 36
    },
    "id": "dqqsQAG4Or1N",
    "outputId": "c2fb45a4-886e-4824-fa1b-e083e6f94395"
   },
   "outputs": [
    {
     "data": {
      "application/vnd.google.colaboratory.intrinsic+json": {
       "type": "string"
      },
      "text/plain": [
       "'is'"
      ]
     },
     "execution_count": 33,
     "metadata": {},
     "output_type": "execute_result"
    }
   ],
   "source": [
    "porter.stem(\"is\")"
   ]
  },
  {
   "cell_type": "code",
   "execution_count": null,
   "metadata": {
    "colab": {
     "base_uri": "https://localhost:8080/",
     "height": 36
    },
    "id": "u5fRQoTnPVs6",
    "outputId": "522278a1-493e-484c-c4a1-09f06ee22035"
   },
   "outputs": [
    {
     "data": {
      "application/vnd.google.colaboratory.intrinsic+json": {
       "type": "string"
      },
      "text/plain": [
       "'be'"
      ]
     },
     "execution_count": 34,
     "metadata": {},
     "output_type": "execute_result"
    }
   ],
   "source": [
    "lemmatizer.lemmatize(\"is\", pos = wordnet.VERB)"
   ]
  },
  {
   "cell_type": "code",
   "execution_count": null,
   "metadata": {
    "colab": {
     "base_uri": "https://localhost:8080/",
     "height": 36
    },
    "id": "-kWsA615PVvx",
    "outputId": "cc611d77-8fd6-4714-acee-321a183ecc44"
   },
   "outputs": [
    {
     "data": {
      "application/vnd.google.colaboratory.intrinsic+json": {
       "type": "string"
      },
      "text/plain": [
       "'good'"
      ]
     },
     "execution_count": 37,
     "metadata": {},
     "output_type": "execute_result"
    }
   ],
   "source": [
    "lemmatizer.lemmatize(\"better\", pos = wordnet.ADJ)"
   ]
  },
  {
   "cell_type": "markdown",
   "metadata": {
    "id": "IXYHG5ICQELh"
   },
   "source": [
    "**Note:** Parts of speech obtained by the NLTK tagger is not compatible with the Lemmatizer"
   ]
  },
  {
   "cell_type": "code",
   "execution_count": 16,
   "metadata": {
    "id": "Jtz8EAoPOr4U"
   },
   "outputs": [],
   "source": [
    " # POS Tagger for Lemmatizer\n",
    " # tags -> 'NOUN', 'VERB', etc.\n",
    "def get_wordnet_pos(tags): # Returns the tags or POS {Noun, Verb, etc.}\n",
    "  if tags.startswith('J'): # NNP\n",
    "    return wordnet.ADJ\n",
    "  elif tags.startswith('V'):\n",
    "    return wordnet.VERB\n",
    "  elif tags.startswith('N'):\n",
    "    return wordnet.NOUN\n",
    "  elif tags.startswith('R'):\n",
    "    return wordnet.ADV\n",
    "  else:\n",
    "    return wordnet.NOUN"
   ]
  },
  {
   "cell_type": "code",
   "execution_count": 17,
   "metadata": {
    "colab": {
     "base_uri": "https://localhost:8080/"
    },
    "id": "oqyunYdJQbh5",
    "outputId": "1865b908-d07d-4601-f01a-01cabeffd0c5"
   },
   "outputs": [
    {
     "name": "stderr",
     "output_type": "stream",
     "text": [
      "[nltk_data] Downloading package averaged_perceptron_tagger to\n",
      "[nltk_data]     /home/user/nltk_data...\n",
      "[nltk_data]   Unzipping taggers/averaged_perceptron_tagger.zip.\n"
     ]
    },
    {
     "data": {
      "text/plain": [
       "True"
      ]
     },
     "execution_count": 17,
     "metadata": {},
     "output_type": "execute_result"
    }
   ],
   "source": [
    "# The averaged_perceptron_tagger.zip contains\n",
    "# the pre-trained English [Part-of-Speech (POS]]\n",
    "nltk.download(\"averaged_perceptron_tagger\")"
   ]
  },
  {
   "cell_type": "code",
   "execution_count": null,
   "metadata": {
    "id": "1TlCIL1lQbk9"
   },
   "outputs": [],
   "source": [
    "sentence = \"John Abraham have a devoted following\".split() # \"following\" is Noun"
   ]
  },
  {
   "cell_type": "code",
   "execution_count": null,
   "metadata": {
    "id": "A7l6Ey88QCQ6"
   },
   "outputs": [],
   "source": [
    "# Execute the NLTK POS tagger\n",
    "\n",
    "word_tag = nltk.pos_tag(sentence) # The output is a tuple (word, POS)"
   ]
  },
  {
   "cell_type": "code",
   "execution_count": null,
   "metadata": {
    "colab": {
     "base_uri": "https://localhost:8080/"
    },
    "id": "KegLeRH_QCTd",
    "outputId": "22e44610-23e8-436c-cdb6-813f0c7b5df7"
   },
   "outputs": [
    {
     "name": "stdout",
     "output_type": "stream",
     "text": [
      "[('John', 'NNP'), ('Abraham', 'NNP'), ('have', 'VBP'), ('a', 'DT'), ('devoted', 'VBN'), ('following', 'NN')]\n"
     ]
    }
   ],
   "source": [
    "print(word_tag)"
   ]
  },
  {
   "cell_type": "code",
   "execution_count": null,
   "metadata": {
    "colab": {
     "base_uri": "https://localhost:8080/"
    },
    "id": "HoavOj03UNMk",
    "outputId": "08a28c70-c7b0-460d-ad2f-432379850708"
   },
   "outputs": [
    {
     "name": "stdout",
     "output_type": "stream",
     "text": [
      "John\n",
      "Abraham\n",
      "have\n",
      "a\n",
      "devote\n",
      "following\n"
     ]
    }
   ],
   "source": [
    "for word, tag in word_tag: # word_tag -> \"John\",'NNP'\n",
    "  lemma = lemmatizer.lemmatize(word, pos=get_wordnet_pos(tag)) # wordnet.NOUN\n",
    "  print(lemma)\n",
    "  #print(word, tag)"
   ]
  },
  {
   "cell_type": "code",
   "execution_count": null,
   "metadata": {
    "id": "_AznKPmiYob7"
   },
   "outputs": [],
   "source": [
    "# Document - Paragraphs -> Stemming, Lemmatization also sentence after\n",
    "# stopword removal\n",
    "sentence = \"The cat was following the mouse\".split()\n"
   ]
  },
  {
   "cell_type": "code",
   "execution_count": null,
   "metadata": {
    "colab": {
     "base_uri": "https://localhost:8080/"
    },
    "id": "_wOnqNm9YoiC",
    "outputId": "60de21f5-d40f-4c6b-8e00-bcbd3ed7ef3e"
   },
   "outputs": [
    {
     "data": {
      "text/plain": [
       "[('The', 'DT'),\n",
       " ('cat', 'NN'),\n",
       " ('was', 'VBD'),\n",
       " ('following', 'VBG'),\n",
       " ('the', 'DT'),\n",
       " ('mouse', 'NN')]"
      ]
     },
     "execution_count": 76,
     "metadata": {},
     "output_type": "execute_result"
    }
   ],
   "source": [
    "word_and_tag = nltk.pos_tag(sentence)\n",
    "word_and_tag"
   ]
  },
  {
   "cell_type": "code",
   "execution_count": null,
   "metadata": {
    "colab": {
     "base_uri": "https://localhost:8080/"
    },
    "id": "_GYs4stBY0q_",
    "outputId": "9d798b64-4efd-4141-bab0-a81fa7f346b0"
   },
   "outputs": [
    {
     "name": "stdout",
     "output_type": "stream",
     "text": [
      "The cat be follow the mouse "
     ]
    }
   ],
   "source": [
    "for word, tag in word_and_tag:\n",
    "  lemma = lemmatizer.lemmatize(word,pos=get_wordnet_pos(tag)) # wordnet.VERB\n",
    "  print(lemma, end = \" \")"
   ]
  },
  {
   "cell_type": "markdown",
   "metadata": {},
   "source": [
    "## Lemmatizing a corpus"
   ]
  },
  {
   "cell_type": "code",
   "execution_count": 23,
   "metadata": {
    "scrolled": false
   },
   "outputs": [
    {
     "name": "stdout",
     "output_type": "stream",
     "text": [
      "Corpus: \n",
      "\n",
      " The alarm went off and Jake rose awake. Rising early had become a daily ritual, one that he could not fully explain. From the outside, it was a wonder that he was able to get up so early each morning for someone who had absolutely no plans to be productive during the entire day.\n",
      "The water rush down the wash and into the slot canyon below. Two hikers had started the day to sunny weather without a cloud in the sky, but they hadn't thought to check the weather north of the canyon. Huge thunderstorms had brought a deluge o rain and produced flash floods heading their way. The two hikers had no idea what was coming.\n",
      "Her hand was balled into a fist with her keys protruding out from between her fingers. This was the weapon her father had shown her how to make when she walked alone to her car after work. She wished that she had something a little more potent than keys between her fingers. It would have been nice to have some mace or pepper spray. He had been meaning to buy some but had never gotten around to it. As the mother bear took another step forward with her cubs in tow, she knew her fist with keys wasn't going to be an adequate defense for this situation.\n",
      "It had become a far too common an event in her life. She has specifically placed the key to the box in a special place so that she wouldn't lose it and know exactly where it was when the key was needed. Now that she needed to open the box, she had absolutely no idea where that special spot she placed the key might be.\n",
      "\n",
      "\n",
      "After removal of stopwords and Lemmatization: \n",
      "\n",
      "the alarm go jake rise awake. rise early become daily ritual, one could fully explain. from outside, wonder able get early morning someone absolutely plan productive entire day. the water rush wash slot canyon below. two hiker start day sunny weather without cloud sky, think check weather north canyon. huge thunderstorm bring deluge rain produce flash flood head way. the two hiker idea coming. her hand ball fist key protrude fingers. this weapon father show make walk alone car work. she wish something little potent key fingers. it would nice mace pepper spray. he mean buy never get around it. a mother bear take another step forward cub tow, know fist key go adequate defense situation. it become far common event life. she specifically place key box special place lose know exactly key needed. now need open box, absolutely idea special spot place key might be. "
     ]
    }
   ],
   "source": [
    "# load the corpus\n",
    "corpus_2 = open('corpus_2.txt','r')\n",
    "\n",
    "# print the original corpus\n",
    "print('Corpus: \\n\\n',corpus_2.read())\n",
    "\n",
    "corpus_2 = open('corpus_2.txt','r')\n",
    "\n",
    "# print the corpus after lemmatization is applied to it\n",
    "print('\\nAfter removal of stopwords and Lemmatization: \\n')\n",
    "for sentence in corpus_2:                                              # loops over each sentence\n",
    "    for word,tag in nltk.pos_tag(sentence.split()):                    # loops over a list of tuples with POS tagging\n",
    "        if word not in stop_words:                                     # removes stopwords\n",
    "            lemma = lemmatizer.lemmatize(word.lower(), pos=get_wordnet_pos(tag))  # lemmatizes the words based on POS\n",
    "            print(lemma, end=\" \")                                          # prints lemmatized words"
   ]
  }
 ],
 "metadata": {
  "colab": {
   "gpuType": "A100",
   "machine_shape": "hm",
   "provenance": []
  },
  "kernelspec": {
   "display_name": "Python 3",
   "language": "python",
   "name": "python3"
  },
  "language_info": {
   "codemirror_mode": {
    "name": "ipython",
    "version": 3
   },
   "file_extension": ".py",
   "mimetype": "text/x-python",
   "name": "python",
   "nbconvert_exporter": "python",
   "pygments_lexer": "ipython3",
   "version": "3.6.9"
  }
 },
 "nbformat": 4,
 "nbformat_minor": 1
}
