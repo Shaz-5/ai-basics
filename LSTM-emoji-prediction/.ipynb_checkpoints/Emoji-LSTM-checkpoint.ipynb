{
 "cells": [
  {
   "cell_type": "code",
   "execution_count": 9,
   "id": "confidential-intermediate",
   "metadata": {},
   "outputs": [],
   "source": [
    "import numpy as np\n",
    "import pandas as pd\n",
    "import emoji\n",
    "\n",
    "from keras.models import Sequential\n",
    "from keras.layers import Dense, LSTM, SimpleRNN, Embedding\n",
    "\n",
    "from keras.preprocessing.text import Tokenizer\n",
    "from keras.preprocessing.sequence import pad_sequences\n",
    "from tensorflow.keras.utils import to_categorical"
   ]
  },
  {
   "cell_type": "code",
   "execution_count": 10,
   "id": "future-seeking",
   "metadata": {},
   "outputs": [
    {
     "data": {
      "text/html": [
       "<div>\n",
       "<style scoped>\n",
       "    .dataframe tbody tr th:only-of-type {\n",
       "        vertical-align: middle;\n",
       "    }\n",
       "\n",
       "    .dataframe tbody tr th {\n",
       "        vertical-align: top;\n",
       "    }\n",
       "\n",
       "    .dataframe thead th {\n",
       "        text-align: right;\n",
       "    }\n",
       "</style>\n",
       "<table border=\"1\" class=\"dataframe\">\n",
       "  <thead>\n",
       "    <tr style=\"text-align: right;\">\n",
       "      <th></th>\n",
       "      <th>0</th>\n",
       "      <th>1</th>\n",
       "    </tr>\n",
       "  </thead>\n",
       "  <tbody>\n",
       "    <tr>\n",
       "      <th>0</th>\n",
       "      <td>French macaroon is so tasty</td>\n",
       "      <td>4</td>\n",
       "    </tr>\n",
       "    <tr>\n",
       "      <th>1</th>\n",
       "      <td>work is horrible</td>\n",
       "      <td>3</td>\n",
       "    </tr>\n",
       "    <tr>\n",
       "      <th>2</th>\n",
       "      <td>I am upset</td>\n",
       "      <td>3</td>\n",
       "    </tr>\n",
       "    <tr>\n",
       "      <th>3</th>\n",
       "      <td>throw the ball</td>\n",
       "      <td>1</td>\n",
       "    </tr>\n",
       "    <tr>\n",
       "      <th>4</th>\n",
       "      <td>Good joke</td>\n",
       "      <td>2</td>\n",
       "    </tr>\n",
       "  </tbody>\n",
       "</table>\n",
       "</div>"
      ],
      "text/plain": [
       "                             0   1\n",
       "0  French macaroon is so tasty   4\n",
       "1             work is horrible   3\n",
       "2                   I am upset  3 \n",
       "3               throw the ball  1 \n",
       "4                    Good joke   2"
      ]
     },
     "execution_count": 10,
     "metadata": {},
     "output_type": "execute_result"
    }
   ],
   "source": [
    "data = pd.read_csv('emoji_data.csv', header = None)\n",
    "data.head()"
   ]
  },
  {
   "cell_type": "code",
   "execution_count": 11,
   "id": "hollywood-simulation",
   "metadata": {},
   "outputs": [],
   "source": [
    "emoji_dict = {\n",
    "    0: \":red_heart:\",\n",
    "    1: \":baseball:\",\n",
    "    2: \":grinning_face_with_big_eyes:\",\n",
    "    3: \":disappointed_face:\",\n",
    "    4: \":fork_and_knife_with_plate:\"\n",
    "}\n",
    "\n",
    "def label_to_emoji(label):\n",
    "    return emoji.emojize(emoji_dict[label])"
   ]
  },
  {
   "cell_type": "code",
   "execution_count": 16,
   "id": "32b9a952",
   "metadata": {},
   "outputs": [
    {
     "data": {
      "text/html": [
       "<div>\n",
       "<style scoped>\n",
       "    .dataframe tbody tr th:only-of-type {\n",
       "        vertical-align: middle;\n",
       "    }\n",
       "\n",
       "    .dataframe tbody tr th {\n",
       "        vertical-align: top;\n",
       "    }\n",
       "\n",
       "    .dataframe thead th {\n",
       "        text-align: right;\n",
       "    }\n",
       "</style>\n",
       "<table border=\"1\" class=\"dataframe\">\n",
       "  <thead>\n",
       "    <tr style=\"text-align: right;\">\n",
       "      <th></th>\n",
       "      <th>0</th>\n",
       "      <th>1</th>\n",
       "    </tr>\n",
       "  </thead>\n",
       "  <tbody>\n",
       "    <tr>\n",
       "      <th>29</th>\n",
       "      <td>I miss you so much</td>\n",
       "      <td>0v2</td>\n",
       "    </tr>\n",
       "  </tbody>\n",
       "</table>\n",
       "</div>"
      ],
      "text/plain": [
       "                     0    1\n",
       "29  I miss you so much  0v2"
      ]
     },
     "execution_count": 16,
     "metadata": {},
     "output_type": "execute_result"
    }
   ],
   "source": [
    "data[data[1]=='0v2']"
   ]
  },
  {
   "cell_type": "code",
   "execution_count": 19,
   "id": "2cc43aba",
   "metadata": {},
   "outputs": [],
   "source": [
    "data[1].replace('0v2',0,inplace=True)"
   ]
  },
  {
   "cell_type": "code",
   "execution_count": 12,
   "id": "indoor-recipient",
   "metadata": {},
   "outputs": [],
   "source": [
    "X = data[0].values\n",
    "Y = data[1].values"
   ]
  },
  {
   "cell_type": "code",
   "execution_count": 20,
   "id": "4fe90863",
   "metadata": {},
   "outputs": [
    {
     "data": {
      "text/plain": [
       "array(['4', '3', '3 ', '1 ', '2', '1', '4', '3', '4', '1', '3', '3 ', '2',\n",
       "       '2', '4', '3', '2', '3 ', '3 ', '1', '3 ', '2', '2', '2', '0', '1',\n",
       "       '0', '4 ', '2', 0, '2', '0', '0', '3 ', '4', '0', '2', '1', '3',\n",
       "       '1', '0', '4', '0 ', '3', '0 ', '4', '2', '3 ', '4', '2 ', '2',\n",
       "       '3', '0', '2', '2', '3 ', '2', '3', '2', '2', '3 ', '3', '0 ', '2',\n",
       "       '3', '0', '2', '0', '0 ', '2', '3', '2', '4', '1', '3', '3', '0',\n",
       "       '0', '3', '2', '0', '3', '0', '2', '2', '4', '2', '2', '0', '0',\n",
       "       '2', '3', '0', '4', '2', '1', '2', '3', '3', '2', '3', '0', '3',\n",
       "       '0', '2', '0', '2', '3', '4', '3', '1', '3', '4', '3', '2', '3',\n",
       "       '3', '3', '1', '4', '4', '2', '2', '1', '1', '2', '3', '2', '3',\n",
       "       '4', '2', '3', '0', '2', '0', '0', '4', '3', '4', '2', '3', '2',\n",
       "       '3', '4', '2', '1', '2', '4', '3', '1', '3', '2', '3', '2', '2',\n",
       "       '3', '3', '2', '4', '0', '0', '0', '3', '0', '0', '1', '1', '2',\n",
       "       '2', '2', '0', '3', '2', '3', '3', '1', '2', '2', '4', '2', '3',\n",
       "       '1', '2'], dtype=object)"
      ]
     },
     "execution_count": 20,
     "metadata": {},
     "output_type": "execute_result"
    }
   ],
   "source": [
    "Y"
   ]
  },
  {
   "cell_type": "markdown",
   "id": "concerned-oxide",
   "metadata": {},
   "source": [
    "# Embeddings"
   ]
  },
  {
   "cell_type": "markdown",
   "id": "97710016",
   "metadata": {},
   "source": [
    "__[glove.6B.50d.txt](https://www.kaggle.com/datasets/adityajn105/glove6b50d)__"
   ]
  },
  {
   "cell_type": "code",
   "execution_count": 25,
   "id": "buried-opposition",
   "metadata": {},
   "outputs": [],
   "source": [
    "file = open('glove.6B.50d.txt', 'r', encoding = 'utf8')\n",
    "content = file.readlines()\n",
    "file.close()\n",
    "\n",
    "# content"
   ]
  },
  {
   "cell_type": "code",
   "execution_count": 4,
   "id": "based-response",
   "metadata": {
    "scrolled": true
   },
   "outputs": [],
   "source": [
    "embeddings = {}\n",
    "\n",
    "for line in content:\n",
    "    line = line.split()\n",
    "    embeddings[line[0]] = np.array(line[1:], dtype = float)"
   ]
  },
  {
   "cell_type": "code",
   "execution_count": 29,
   "id": "manual-maryland",
   "metadata": {},
   "outputs": [],
   "source": [
    "tokenizer = Tokenizer()\n",
    "tokenizer.fit_on_texts(X)\n",
    "word2index = tokenizer.word_index"
   ]
  },
  {
   "cell_type": "code",
   "execution_count": 32,
   "id": "coordinate-color",
   "metadata": {},
   "outputs": [
    {
     "name": "stdout",
     "output_type": "stream",
     "text": [
      "10\n"
     ]
    }
   ],
   "source": [
    "def get_maxlen(data):\n",
    "    maxlen = 0\n",
    "    for sent in data:\n",
    "        maxlen = max(maxlen, len(sent))\n",
    "    return maxlen\n",
    "\n",
    "maxlen = get_maxlen(Xtokens)\n",
    "print(maxlen)"
   ]
  },
  {
   "cell_type": "code",
   "execution_count": 35,
   "id": "recovered-fortune",
   "metadata": {},
   "outputs": [
    {
     "data": {
      "text/plain": [
       "array([[103, 104,   3, ...,   0,   0,   0],\n",
       "       [106,   3, 107, ...,   0,   0,   0],\n",
       "       [  1,   7, 108, ...,   0,   0,   0],\n",
       "       ...,\n",
       "       [ 14,   3,   5, ...,   0,   0,   0],\n",
       "       [ 14, 310,  26, ...,   0,   0,   0],\n",
       "       [  1,  24,  22, ...,   0,   0,   0]], dtype=int32)"
      ]
     },
     "execution_count": 35,
     "metadata": {},
     "output_type": "execute_result"
    }
   ],
   "source": [
    "Xtokens = tokenizer.texts_to_sequences(X)\n",
    "Xtrain = pad_sequences(Xtokens, maxlen = maxlen,  padding = 'post', truncating = 'post')\n",
    "\n",
    "Xtrain"
   ]
  },
  {
   "cell_type": "code",
   "execution_count": 5,
   "id": "polyphonic-cannon",
   "metadata": {},
   "outputs": [],
   "source": [
    "Ytrain = to_categorical(Y)"
   ]
  },
  {
   "cell_type": "markdown",
   "id": "greatest-violin",
   "metadata": {},
   "source": [
    "# Model"
   ]
  },
  {
   "cell_type": "code",
   "execution_count": 39,
   "id": "intended-rapid",
   "metadata": {},
   "outputs": [],
   "source": [
    "embed_size = 50\n",
    "embedding_matrix = np.zeros((len(word2index)+1, embed_size))\n",
    "\n",
    "for word, i in word2index.items():\n",
    "    embed_vector = embeddings[word]\n",
    "    embedding_matrix[i] = embed_vector"
   ]
  },
  {
   "cell_type": "code",
   "execution_count": 40,
   "id": "weighted-relationship",
   "metadata": {},
   "outputs": [
    {
     "data": {
      "text/plain": [
       "array([[ 0.0000e+00,  0.0000e+00,  0.0000e+00, ...,  0.0000e+00,\n",
       "         0.0000e+00,  0.0000e+00],\n",
       "       [ 1.1891e-01,  1.5255e-01, -8.2073e-02, ..., -5.7512e-01,\n",
       "        -2.6671e-01,  9.2121e-01],\n",
       "       [-1.0919e-03,  3.3324e-01,  3.5743e-01, ..., -4.5697e-01,\n",
       "        -4.8969e-02,  1.1316e+00],\n",
       "       ...,\n",
       "       [-6.8975e-01,  6.7030e-01, -1.1030e+00, ..., -3.5800e-01,\n",
       "        -2.5186e-01,  6.1610e-01],\n",
       "       [ 2.7062e-01, -3.6596e-01,  9.7193e-02, ..., -7.5256e-01,\n",
       "        -1.7335e-01, -2.2587e-01],\n",
       "       [ 9.5281e-01, -2.0608e-01,  5.5618e-01, ..., -1.0882e-01,\n",
       "        -2.2822e-01, -4.6303e-01]])"
      ]
     },
     "execution_count": 40,
     "metadata": {},
     "output_type": "execute_result"
    }
   ],
   "source": [
    "embedding_matrix"
   ]
  },
  {
   "cell_type": "code",
   "execution_count": 41,
   "id": "homeless-single",
   "metadata": {},
   "outputs": [],
   "source": [
    "model = Sequential([\n",
    "    Embedding(input_dim = len(word2index) + 1,\n",
    "              output_dim = embed_size,\n",
    "              input_length = maxlen,\n",
    "              weights = [embedding_matrix],\n",
    "              trainable = False\n",
    "             ),\n",
    "    \n",
    "    LSTM(units = 16, return_sequences = True),\n",
    "    LSTM(units = 4),\n",
    "    Dense(5, activation = 'softmax')\n",
    "])\n",
    "\n",
    "model.compile(optimizer = 'adam', loss = 'categorical_crossentropy', metrics = ['accuracy'])"
   ]
  },
  {
   "cell_type": "code",
   "execution_count": 42,
   "id": "technical-possible",
   "metadata": {
    "scrolled": false
   },
   "outputs": [
    {
     "name": "stdout",
     "output_type": "stream",
     "text": [
      "Epoch 1/100\n",
      "6/6 [==============================] - 4s 14ms/step - loss: 1.6139 - accuracy: 0.2350\n",
      "Epoch 2/100\n",
      "6/6 [==============================] - 0s 13ms/step - loss: 1.5929 - accuracy: 0.3005\n",
      "Epoch 3/100\n",
      "6/6 [==============================] - 0s 12ms/step - loss: 1.5749 - accuracy: 0.3279\n",
      "Epoch 4/100\n",
      "6/6 [==============================] - 0s 12ms/step - loss: 1.5580 - accuracy: 0.3552\n",
      "Epoch 5/100\n",
      "6/6 [==============================] - 0s 12ms/step - loss: 1.5415 - accuracy: 0.3880\n",
      "Epoch 6/100\n",
      "6/6 [==============================] - 0s 12ms/step - loss: 1.5229 - accuracy: 0.3989\n",
      "Epoch 7/100\n",
      "6/6 [==============================] - 0s 12ms/step - loss: 1.5007 - accuracy: 0.4153\n",
      "Epoch 8/100\n",
      "6/6 [==============================] - 0s 12ms/step - loss: 1.4781 - accuracy: 0.4481\n",
      "Epoch 9/100\n",
      "6/6 [==============================] - 0s 11ms/step - loss: 1.4481 - accuracy: 0.4590\n",
      "Epoch 10/100\n",
      "6/6 [==============================] - 0s 12ms/step - loss: 1.4173 - accuracy: 0.4590\n",
      "Epoch 11/100\n",
      "6/6 [==============================] - 0s 12ms/step - loss: 1.3827 - accuracy: 0.5027\n",
      "Epoch 12/100\n",
      "6/6 [==============================] - 0s 13ms/step - loss: 1.3478 - accuracy: 0.5082\n",
      "Epoch 13/100\n",
      "6/6 [==============================] - 0s 13ms/step - loss: 1.3155 - accuracy: 0.5301\n",
      "Epoch 14/100\n",
      "6/6 [==============================] - 0s 12ms/step - loss: 1.2807 - accuracy: 0.5355\n",
      "Epoch 15/100\n",
      "6/6 [==============================] - 0s 14ms/step - loss: 1.2514 - accuracy: 0.5355\n",
      "Epoch 16/100\n",
      "6/6 [==============================] - 0s 14ms/step - loss: 1.2242 - accuracy: 0.5464\n",
      "Epoch 17/100\n",
      "6/6 [==============================] - 0s 14ms/step - loss: 1.1928 - accuracy: 0.5519\n",
      "Epoch 18/100\n",
      "6/6 [==============================] - 0s 15ms/step - loss: 1.1737 - accuracy: 0.5628\n",
      "Epoch 19/100\n",
      "6/6 [==============================] - 0s 17ms/step - loss: 1.1429 - accuracy: 0.5683\n",
      "Epoch 20/100\n",
      "6/6 [==============================] - 0s 15ms/step - loss: 1.1219 - accuracy: 0.5738\n",
      "Epoch 21/100\n",
      "6/6 [==============================] - 0s 15ms/step - loss: 1.0985 - accuracy: 0.5792\n",
      "Epoch 22/100\n",
      "6/6 [==============================] - 0s 13ms/step - loss: 1.0759 - accuracy: 0.5956\n",
      "Epoch 23/100\n",
      "6/6 [==============================] - 0s 13ms/step - loss: 1.0631 - accuracy: 0.5847\n",
      "Epoch 24/100\n",
      "6/6 [==============================] - 0s 13ms/step - loss: 1.0433 - accuracy: 0.5902\n",
      "Epoch 25/100\n",
      "6/6 [==============================] - 0s 12ms/step - loss: 1.0189 - accuracy: 0.6230\n",
      "Epoch 26/100\n",
      "6/6 [==============================] - 0s 12ms/step - loss: 0.9987 - accuracy: 0.6339\n",
      "Epoch 27/100\n",
      "6/6 [==============================] - 0s 12ms/step - loss: 0.9782 - accuracy: 0.6339\n",
      "Epoch 28/100\n",
      "6/6 [==============================] - 0s 12ms/step - loss: 0.9585 - accuracy: 0.6393\n",
      "Epoch 29/100\n",
      "6/6 [==============================] - 0s 13ms/step - loss: 0.9395 - accuracy: 0.6448\n",
      "Epoch 30/100\n",
      "6/6 [==============================] - 0s 13ms/step - loss: 0.9254 - accuracy: 0.6448\n",
      "Epoch 31/100\n",
      "6/6 [==============================] - 0s 14ms/step - loss: 0.9064 - accuracy: 0.6448\n",
      "Epoch 32/100\n",
      "6/6 [==============================] - 0s 12ms/step - loss: 0.8917 - accuracy: 0.6503\n",
      "Epoch 33/100\n",
      "6/6 [==============================] - 0s 12ms/step - loss: 0.8755 - accuracy: 0.6612\n",
      "Epoch 34/100\n",
      "6/6 [==============================] - 0s 13ms/step - loss: 0.8736 - accuracy: 0.6612\n",
      "Epoch 35/100\n",
      "6/6 [==============================] - 0s 13ms/step - loss: 0.8627 - accuracy: 0.6667\n",
      "Epoch 36/100\n",
      "6/6 [==============================] - 0s 14ms/step - loss: 0.8497 - accuracy: 0.6721\n",
      "Epoch 37/100\n",
      "6/6 [==============================] - 0s 13ms/step - loss: 0.8577 - accuracy: 0.6612\n",
      "Epoch 38/100\n",
      "6/6 [==============================] - 0s 15ms/step - loss: 0.8189 - accuracy: 0.6721\n",
      "Epoch 39/100\n",
      "6/6 [==============================] - 0s 12ms/step - loss: 0.8049 - accuracy: 0.6776\n",
      "Epoch 40/100\n",
      "6/6 [==============================] - 0s 12ms/step - loss: 0.7892 - accuracy: 0.6776\n",
      "Epoch 41/100\n",
      "6/6 [==============================] - 0s 12ms/step - loss: 0.7783 - accuracy: 0.6940\n",
      "Epoch 42/100\n",
      "6/6 [==============================] - 0s 12ms/step - loss: 0.7670 - accuracy: 0.6995\n",
      "Epoch 43/100\n",
      "6/6 [==============================] - 0s 14ms/step - loss: 0.7566 - accuracy: 0.7322\n",
      "Epoch 44/100\n",
      "6/6 [==============================] - 0s 13ms/step - loss: 0.7476 - accuracy: 0.7650\n",
      "Epoch 45/100\n",
      "6/6 [==============================] - 0s 12ms/step - loss: 0.7399 - accuracy: 0.7923\n",
      "Epoch 46/100\n",
      "6/6 [==============================] - 0s 12ms/step - loss: 0.7378 - accuracy: 0.7978\n",
      "Epoch 47/100\n",
      "6/6 [==============================] - 0s 12ms/step - loss: 0.7268 - accuracy: 0.7978\n",
      "Epoch 48/100\n",
      "6/6 [==============================] - 0s 14ms/step - loss: 0.7215 - accuracy: 0.7923\n",
      "Epoch 49/100\n",
      "6/6 [==============================] - 0s 15ms/step - loss: 0.7111 - accuracy: 0.8033\n",
      "Epoch 50/100\n",
      "6/6 [==============================] - 0s 15ms/step - loss: 0.7031 - accuracy: 0.8251\n",
      "Epoch 51/100\n",
      "6/6 [==============================] - 0s 13ms/step - loss: 0.7053 - accuracy: 0.8142\n",
      "Epoch 52/100\n",
      "6/6 [==============================] - 0s 13ms/step - loss: 0.6965 - accuracy: 0.8033\n",
      "Epoch 53/100\n",
      "6/6 [==============================] - 0s 12ms/step - loss: 0.6874 - accuracy: 0.8197\n",
      "Epoch 54/100\n",
      "6/6 [==============================] - 0s 12ms/step - loss: 0.6776 - accuracy: 0.8142\n",
      "Epoch 55/100\n",
      "6/6 [==============================] - 0s 12ms/step - loss: 0.6824 - accuracy: 0.8142\n",
      "Epoch 56/100\n",
      "6/6 [==============================] - 0s 11ms/step - loss: 0.6833 - accuracy: 0.8033\n",
      "Epoch 57/100\n",
      "6/6 [==============================] - 0s 12ms/step - loss: 0.6724 - accuracy: 0.8033\n",
      "Epoch 58/100\n",
      "6/6 [==============================] - 0s 13ms/step - loss: 0.6589 - accuracy: 0.8142\n",
      "Epoch 59/100\n",
      "6/6 [==============================] - 0s 13ms/step - loss: 0.6465 - accuracy: 0.8306\n",
      "Epoch 60/100\n",
      "6/6 [==============================] - 0s 13ms/step - loss: 0.6365 - accuracy: 0.8306\n",
      "Epoch 61/100\n",
      "6/6 [==============================] - 0s 12ms/step - loss: 0.6301 - accuracy: 0.8361\n",
      "Epoch 62/100\n",
      "6/6 [==============================] - 0s 12ms/step - loss: 0.6268 - accuracy: 0.8251\n",
      "Epoch 63/100\n",
      "6/6 [==============================] - 0s 13ms/step - loss: 0.6349 - accuracy: 0.8142\n",
      "Epoch 64/100\n",
      "6/6 [==============================] - 0s 12ms/step - loss: 0.6312 - accuracy: 0.8033\n",
      "Epoch 65/100\n",
      "6/6 [==============================] - 0s 12ms/step - loss: 0.6213 - accuracy: 0.8306\n",
      "Epoch 66/100\n",
      "6/6 [==============================] - 0s 12ms/step - loss: 0.6108 - accuracy: 0.8197\n",
      "Epoch 67/100\n",
      "6/6 [==============================] - 0s 12ms/step - loss: 0.6170 - accuracy: 0.8087\n",
      "Epoch 68/100\n",
      "6/6 [==============================] - 0s 12ms/step - loss: 0.6100 - accuracy: 0.8197\n",
      "Epoch 69/100\n",
      "6/6 [==============================] - 0s 12ms/step - loss: 0.5997 - accuracy: 0.8142\n",
      "Epoch 70/100\n",
      "6/6 [==============================] - 0s 13ms/step - loss: 0.5844 - accuracy: 0.8306\n",
      "Epoch 71/100\n",
      "6/6 [==============================] - 0s 12ms/step - loss: 0.5895 - accuracy: 0.8197\n",
      "Epoch 72/100\n",
      "6/6 [==============================] - 0s 12ms/step - loss: 0.5776 - accuracy: 0.8415\n",
      "Epoch 73/100\n",
      "6/6 [==============================] - 0s 13ms/step - loss: 0.5716 - accuracy: 0.8197\n",
      "Epoch 74/100\n",
      "6/6 [==============================] - 0s 11ms/step - loss: 0.5609 - accuracy: 0.8525\n",
      "Epoch 75/100\n",
      "6/6 [==============================] - 0s 12ms/step - loss: 0.5434 - accuracy: 0.8689\n",
      "Epoch 76/100\n",
      "6/6 [==============================] - 0s 12ms/step - loss: 0.5390 - accuracy: 0.8634\n",
      "Epoch 77/100\n",
      "6/6 [==============================] - 0s 12ms/step - loss: 0.5330 - accuracy: 0.8962\n",
      "Epoch 78/100\n",
      "6/6 [==============================] - 0s 13ms/step - loss: 0.5256 - accuracy: 0.8852\n",
      "Epoch 79/100\n",
      "6/6 [==============================] - 0s 12ms/step - loss: 0.5148 - accuracy: 0.8907\n",
      "Epoch 80/100\n",
      "6/6 [==============================] - 0s 12ms/step - loss: 0.5062 - accuracy: 0.9126\n",
      "Epoch 81/100\n",
      "6/6 [==============================] - 0s 12ms/step - loss: 0.4971 - accuracy: 0.9180\n",
      "Epoch 82/100\n",
      "6/6 [==============================] - 0s 14ms/step - loss: 0.4863 - accuracy: 0.9235\n",
      "Epoch 83/100\n",
      "6/6 [==============================] - 0s 13ms/step - loss: 0.4735 - accuracy: 0.9290\n",
      "Epoch 84/100\n",
      "6/6 [==============================] - 0s 13ms/step - loss: 0.4784 - accuracy: 0.9071\n",
      "Epoch 85/100\n",
      "6/6 [==============================] - 0s 12ms/step - loss: 0.4750 - accuracy: 0.9290\n",
      "Epoch 86/100\n",
      "6/6 [==============================] - 0s 12ms/step - loss: 0.4782 - accuracy: 0.8689\n",
      "Epoch 87/100\n",
      "6/6 [==============================] - 0s 14ms/step - loss: 0.5492 - accuracy: 0.8142\n",
      "Epoch 88/100\n",
      "6/6 [==============================] - 0s 13ms/step - loss: 0.4793 - accuracy: 0.9016\n",
      "Epoch 89/100\n",
      "6/6 [==============================] - 0s 12ms/step - loss: 0.4586 - accuracy: 0.9071\n",
      "Epoch 90/100\n",
      "6/6 [==============================] - 0s 12ms/step - loss: 0.4345 - accuracy: 0.9290\n",
      "Epoch 91/100\n",
      "6/6 [==============================] - 0s 12ms/step - loss: 0.4170 - accuracy: 0.9235\n",
      "Epoch 92/100\n",
      "6/6 [==============================] - 0s 14ms/step - loss: 0.4100 - accuracy: 0.9399\n",
      "Epoch 93/100\n",
      "6/6 [==============================] - 0s 12ms/step - loss: 0.3934 - accuracy: 0.9399\n",
      "Epoch 94/100\n",
      "6/6 [==============================] - 0s 12ms/step - loss: 0.3791 - accuracy: 0.9508\n",
      "Epoch 95/100\n",
      "6/6 [==============================] - 0s 12ms/step - loss: 0.3677 - accuracy: 0.9563\n",
      "Epoch 96/100\n",
      "6/6 [==============================] - 0s 12ms/step - loss: 0.3587 - accuracy: 0.9563\n",
      "Epoch 97/100\n",
      "6/6 [==============================] - 0s 13ms/step - loss: 0.3491 - accuracy: 0.9617\n",
      "Epoch 98/100\n",
      "6/6 [==============================] - 0s 12ms/step - loss: 0.3432 - accuracy: 0.9563\n",
      "Epoch 99/100\n",
      "6/6 [==============================] - 0s 12ms/step - loss: 0.3356 - accuracy: 0.9563\n",
      "Epoch 100/100\n",
      "6/6 [==============================] - 0s 12ms/step - loss: 0.3253 - accuracy: 0.9617\n"
     ]
    },
    {
     "data": {
      "text/plain": [
       "<keras.src.callbacks.History at 0x7f07842b18a0>"
      ]
     },
     "execution_count": 42,
     "metadata": {},
     "output_type": "execute_result"
    }
   ],
   "source": [
    "model.fit(Xtrain, Ytrain, epochs = 100)"
   ]
  },
  {
   "cell_type": "code",
   "execution_count": 50,
   "id": "convertible-spider",
   "metadata": {},
   "outputs": [
    {
     "name": "stdout",
     "output_type": "stream",
     "text": [
      "1/1 [==============================] - 0s 25ms/step\n",
      "I feel good 😃\n",
      "I feel loved ❤️\n",
      "I am sad 😞\n"
     ]
    }
   ],
   "source": [
    "test = [\"I feel good\", \"I feel loved\", \"I am sad\"]\n",
    "\n",
    "test_seq = tokenizer.texts_to_sequences(test)\n",
    "Xtest = pad_sequences(test_seq, maxlen = maxlen, padding = 'post', truncating = 'post')\n",
    "\n",
    "y_pred = model.predict(Xtest)\n",
    "y_pred = np.argmax(y_pred, axis = 1)\n",
    "\n",
    "for i in range(len(test)):\n",
    "    print(test[i], label_to_emoji(y_pred[i]))"
   ]
  }
 ],
 "metadata": {
  "kernelspec": {
   "display_name": "Python 3 (ipykernel)",
   "language": "python",
   "name": "python3"
  },
  "language_info": {
   "codemirror_mode": {
    "name": "ipython",
    "version": 3
   },
   "file_extension": ".py",
   "mimetype": "text/x-python",
   "name": "python",
   "nbconvert_exporter": "python",
   "pygments_lexer": "ipython3",
   "version": "3.10.12"
  }
 },
 "nbformat": 4,
 "nbformat_minor": 5
}
